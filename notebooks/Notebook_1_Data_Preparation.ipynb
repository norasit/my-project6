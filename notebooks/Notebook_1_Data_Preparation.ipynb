{
 "cells": [
  {
   "cell_type": "code",
   "execution_count": null,
   "id": "6f641711-4631-45ab-b8c0-520b506a63cd",
   "metadata": {},
   "outputs": [],
   "source": [
    "# Import libraries\n",
    "from pyspark.sql import SparkSession\n",
    "\n",
    "# สร้าง Spark Session\n",
    "spark = SparkSession.builder \\\n",
    "    .appName(\"Data Preparation\") \\\n",
    "    .config(\"spark.hadoop.fs.s3a.endpoint\", \"http://minio:9000\") \\\n",
    "    .config(\"spark.hadoop.fs.s3a.access.key\", \"admin\") \\\n",
    "    .config(\"spark.hadoop.fs.s3a.secret.key\", \"password\") \\\n",
    "    .config(\"spark.hadoop.fs.s3a.path.style.access\", \"true\") \\\n",
    "    .config(\"spark.hadoop.fs.s3a.impl\", \"org.apache.hadoop.fs.s3a.S3AFileSystem\") \\\n",
    "    .getOrCreate()\n",
    "\n",
    "# อ่านไฟล์ Parquet จาก container\n",
    "input_path = \"/home/iceberg/data/yellow_tripdata_2021-06.parquet\"\n",
    "df = spark.read.parquet(input_path)\n",
    "\n",
    "# แสดงตัวอย่างข้อมูล\n",
    "print(\"Schema of the dataset:\")\n",
    "df.printSchema()\n",
    "print(\"Sample data:\")\n",
    "df.show(5)\n",
    "\n",
    "# เขียนไฟล์ไปยัง MinIO\n",
    "output_path = \"s3a://warehouse/raw/yellow_tripdata_2021-06.parquet\"\n",
    "df.write.mode(\"overwrite\").parquet(output_path)\n",
    "\n",
    "print(f\"File has been written to {output_path}\")\n"
   ]
  },
  {
   "cell_type": "code",
   "execution_count": null,
   "id": "418a5705-90eb-4e2e-a673-0755e462fd73",
   "metadata": {},
   "outputs": [],
   "source": []
  }
 ],
 "metadata": {
  "kernelspec": {
   "display_name": "Python 3 (ipykernel)",
   "language": "python",
   "name": "python3"
  },
  "language_info": {
   "codemirror_mode": {
    "name": "ipython",
    "version": 3
   },
   "file_extension": ".py",
   "mimetype": "text/x-python",
   "name": "python",
   "nbconvert_exporter": "python",
   "pygments_lexer": "ipython3",
   "version": "3.10.15"
  }
 },
 "nbformat": 4,
 "nbformat_minor": 5
}
